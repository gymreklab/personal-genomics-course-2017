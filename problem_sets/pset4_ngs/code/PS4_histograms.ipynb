{
 "cells": [
  {
   "cell_type": "code",
   "execution_count": 54,
   "metadata": {
    "collapsed": false
   },
   "outputs": [
    {
     "name": "stdout",
     "output_type": "stream",
     "text": [
      "Populating the interactive namespace from numpy and matplotlib\n"
     ]
    }
   ],
   "source": [
    "%pylab inline\n",
    "import matplotlib.pyplot as plt\n",
    "import numpy as np\n",
    "import pandas as pd\n",
    "#autocov = map(lambda x: int(x.strip()), open(\"../data/auto.cov\").readlines())\n",
    "#ycov = map(lambda x: int(x.strip()), open(\"../data/chrY.cov\").readlines())\n",
    "#xcov = map(lambda x: int(x.strip()), open(\"../data/chrX.cov\").readlines())\n",
    "#dists = map(lambda x: int(x.strip()), open(\"../data/template_lens.txt\").readlines())\n",
    "autocov = pd.read_csv(\"../data/auto.cov\", sep=\"\\t\", names=[\"count\",\"coverage\"])\n",
    "ycov = pd.read_csv(\"../data/chrY.cov\", sep=\"\\t\", names=[\"count\",\"coverage\"])\n",
    "xcov = pd.read_csv(\"../data/chrX.cov\", sep=\"\\t\", names=[\"count\",\"coverage\"])\n",
    "dists = pd.read_csv(\"../data/template_lens.txt\", sep=\"\\t\", names=[\"count\",\"dist\"])"
   ]
  },
  {
   "cell_type": "code",
   "execution_count": 65,
   "metadata": {
    "collapsed": false
   },
   "outputs": [
    {
     "name": "stdout",
     "output_type": "stream",
     "text": [
      "49\n",
      "48\n",
      "3\n"
     ]
    },
    {
     "data": {
      "image/png": "[encoded data removed]",
      "text/plain": [
       "<matplotlib.figure.Figure at 0x114314610>"
      ]
     },
     "metadata": {},
     "output_type": "display_data"
    }
   ],
   "source": [
    "# Histogram of coverage\n",
    "bins=np.arange(0, 150, 1)\n",
    "fig = plt.figure()\n",
    "ax = fig.add_subplot(111)\n",
    "ax.scatter(autocov[\"coverage\"], autocov[\"count\"]/np.sum(autocov[\"count\"]), color=\"blue\")\n",
    "ax.scatter(ycov[\"coverage\"], ycov[\"count\"]/np.sum(ycov[\"count\"]), color=\"green\")\n",
    "ax.scatter(xcov[\"coverage\"], xcov[\"count\"]/np.sum(xcov[\"count\"]), color=\"red\")\n",
    "ax.set_xlim(left=0, right=80);\n",
    "\n",
    "def GetMedian(x, col=\"coverage\"):\n",
    "    x = x.sort(col)\n",
    "    cumsum = np.cumsum(x[\"count\"].values)\n",
    "    cumsum = cumsum*1.0/np.sum(x[\"count\"])\n",
    "    print x[col].values[[i for i in range(len(cumsum)) if cumsum[i] < 0.5][-1]]\n",
    "\n",
    "GetMedian(autocov)\n",
    "GetMedian(xcov)\n",
    "GetMedian(ycov)\n"
   ]
  },
  {
   "cell_type": "code",
   "execution_count": 66,
   "metadata": {
    "collapsed": false
   },
   "outputs": [
    {
     "name": "stdout",
     "output_type": "stream",
     "text": [
      "321\n"
     ]
    },
    {
     "data": {
      "image/png": "[encoded data removed]",
      "text/plain": [
       "<matplotlib.figure.Figure at 0x115bf8950>"
      ]
     },
     "metadata": {},
     "output_type": "display_data"
    }
   ],
   "source": [
    "dists[\"absdist\"] = dists[\"dist\"].apply(abs)\n",
    "xdists = dists[dists[\"absdist\"]<=1000]\n",
    "xdists = xdists.groupby(\"absdist\", as_index=False).agg({\"count\": np.sum})\n",
    "fig = plt.figure()\n",
    "ax = fig.add_subplot(111)\n",
    "ax.scatter(xdists[\"absdist\"], xdists[\"count\"], color=\"green\")\n",
    "\n",
    "GetMedian(dists, col=\"absdist\")"
   ]
  }
 ],
 "metadata": {
  "kernelspec": {
   "display_name": "Python 2",
   "language": "python",
   "name": "python2"
  },
  "language_info": {
   "codemirror_mode": {
    "name": "ipython",
    "version": 2
   },
   "file_extension": ".py",
   "mimetype": "text/x-python",
   "name": "python",
   "nbconvert_exporter": "python",
   "pygments_lexer": "ipython2",
   "version": "2.7.10"
  }
 },
 "nbformat": 4,
 "nbformat_minor": 0
}
