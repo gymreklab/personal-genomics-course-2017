{
 "cells": [
  {
   "cell_type": "code",
   "execution_count": 28,
   "metadata": {
    "collapsed": false
   },
   "outputs": [
    {
     "name": "stdout",
     "output_type": "stream",
     "text": [
      "Populating the interactive namespace from numpy and matplotlib\n"
     ]
    }
   ],
   "source": [
    "%pylab inline\n",
    "import pandas as pd\n",
    "import matplotlib.pyplot as plt\n",
    "import numpy as np\n",
    "import scipy.stats\n"
   ]
  },
  {
   "cell_type": "code",
   "execution_count": 31,
   "metadata": {
    "collapsed": false
   },
   "outputs": [],
   "source": [
    "# Pop labels\n",
    "poplabels = pd.read_csv(\"../data/CEUTSI.labels\", sep=\"\\t\", names=[\"sample\",\"pop\"])\n",
    "\n",
    "# Eye color results\n",
    "eyes = pd.read_csv(\"../data/eyecolor_predictions.tab\", sep=\"\\t\", names=[\"sample\",\"pblue\",\"pother\",\"pbrown\"])\n",
    "\n",
    "# Combine\n",
    "data = pd.merge(poplabels, eyes, on=[\"sample\"])"
   ]
  },
  {
   "cell_type": "code",
   "execution_count": 34,
   "metadata": {
    "collapsed": false
   },
   "outputs": [
    {
     "data": {
      "text/html": [
       "<div>\n",
       "<table border=\"1\" class=\"dataframe\">\n",
       "  <thead>\n",
       "    <tr style=\"text-align: right;\">\n",
       "      <th></th>\n",
       "      <th>sample</th>\n",
       "      <th>pop</th>\n",
       "      <th>pblue</th>\n",
       "      <th>pother</th>\n",
       "      <th>pbrown</th>\n",
       "    </tr>\n",
       "  </thead>\n",
       "  <tbody>\n",
       "    <tr>\n",
       "      <th>73</th>\n",
       "      <td>NA12750</td>\n",
       "      <td>CEU</td>\n",
       "      <td>0.272793</td>\n",
       "      <td>0.497061</td>\n",
       "      <td>0.230146</td>\n",
       "    </tr>\n",
       "  </tbody>\n",
       "</table>\n",
       "</div>"
      ],
      "text/plain": [
       "     sample  pop     pblue    pother    pbrown\n",
       "73  NA12750  CEU  0.272793  0.497061  0.230146"
      ]
     },
     "execution_count": 34,
     "metadata": {},
     "output_type": "execute_result"
    }
   ],
   "source": [
    "data[data[\"sample\"]==\"NA12750\"]"
   ]
  },
  {
   "cell_type": "code",
   "execution_count": 30,
   "metadata": {
    "collapsed": false
   },
   "outputs": [
    {
     "name": "stdout",
     "output_type": "stream",
     "text": [
      "CEU\n",
      "blue: 0.631302930401\n",
      "brown: 0.238685614717\n",
      "other: 0.130011454881\n",
      "TSI\n",
      "blue: 0.250104760778\n",
      "brown: 0.583218459929\n",
      "other: 0.166676779293\n"
     ]
    },
    {
     "data": {
      "image/png": "[encoded data removed]",
      "text/plain": [
       "<matplotlib.figure.Figure at 0x7fb108f00cc0>"
      ]
     },
     "metadata": {},
     "output_type": "display_data"
    }
   ],
   "source": [
    "data[\"color\"] = data.apply(lambda x: [\"gray\",\"red\"][x[\"pop\"]==\"CEU\"], 1)\n",
    "fig = plt.figure()\n",
    "ax = fig.add_subplot(111)\n",
    "ax.scatter(data[\"pblue\"], data[\"pbrown\"]+data[\"pother\"], color=list(data[\"color\"]), alpha=0.5)\n",
    "ax.set_xlabel(\"p(blue eyes)\", size=15)\n",
    "ax.set_ylabel(\"p(brown eyes)\", size=15)\n",
    "ax.set_xticklabels(ax.get_xticks(), size=12)\n",
    "ax.set_yticklabels(ax.get_yticks(), size=12);\n",
    "\n",
    "print(\"CEU\")\n",
    "print(\"blue: %s\"%np.mean(data[data[\"pop\"]==\"CEU\"][\"pblue\"]))\n",
    "print(\"brown: %s\"%np.mean(data[data[\"pop\"]==\"CEU\"][\"pbrown\"]))\n",
    "print(\"other: %s\"%np.mean(data[data[\"pop\"]==\"CEU\"][\"pother\"]))\n",
    "print(\"TSI\")\n",
    "print(\"blue: %s\"%np.mean(data[data[\"pop\"]==\"TSI\"][\"pblue\"]))\n",
    "print(\"brown: %s\"%np.mean(data[data[\"pop\"]==\"TSI\"][\"pbrown\"]))\n",
    "print(\"other: %s\"%np.mean(data[data[\"pop\"]==\"TSI\"][\"pother\"]))"
   ]
  }
 ],
 "metadata": {
  "kernelspec": {
   "display_name": "Python 3",
   "language": "python",
   "name": "python3"
  },
  "language_info": {
   "codemirror_mode": {
    "name": "ipython",
    "version": 3
   },
   "file_extension": ".py",
   "mimetype": "text/x-python",
   "name": "python",
   "nbconvert_exporter": "python",
   "pygments_lexer": "ipython3",
   "version": "3.4.5"
  }
 },
 "nbformat": 4,
 "nbformat_minor": 2
}
